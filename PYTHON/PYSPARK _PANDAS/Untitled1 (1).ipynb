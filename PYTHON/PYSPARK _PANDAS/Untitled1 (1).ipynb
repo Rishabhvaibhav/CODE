{
 "cells": [
  {
   "cell_type": "code",
   "execution_count": 3,
   "id": "7b0565bb",
   "metadata": {},
   "outputs": [
    {
     "name": "stdout",
     "output_type": "stream",
     "text": [
      "Requirement already satisfied: mysql in c:\\users\\rvaibhav\\appdata\\local\\programs\\python\\python311\\lib\\site-packages (0.0.3)\n",
      "Requirement already satisfied: mysqlclient in c:\\users\\rvaibhav\\appdata\\local\\programs\\python\\python311\\lib\\site-packages (from mysql) (2.1.1)\n",
      "Requirement already satisfied: pymysql in c:\\users\\rvaibhav\\appdata\\local\\programs\\python\\python311\\lib\\site-packages (1.0.2)\n",
      "Collecting cryptography\n",
      "  Downloading cryptography-39.0.2-cp36-abi3-win_amd64.whl (2.5 MB)\n",
      "     ---------------------------------------- 0.0/2.5 MB ? eta -:--:--\n",
      "     ---------------------------------------- 0.0/2.5 MB ? eta -:--:--\n",
      "      --------------------------------------- 0.1/2.5 MB 890.4 kB/s eta 0:00:03\n",
      "     - -------------------------------------- 0.1/2.5 MB 1.2 MB/s eta 0:00:02\n",
      "     ---- ----------------------------------- 0.3/2.5 MB 2.3 MB/s eta 0:00:01\n",
      "     -------- ------------------------------- 0.5/2.5 MB 3.2 MB/s eta 0:00:01\n",
      "     ------------ --------------------------- 0.8/2.5 MB 4.1 MB/s eta 0:00:01\n",
      "     ------------------- -------------------- 1.2/2.5 MB 5.0 MB/s eta 0:00:01\n",
      "     ------------------------------- -------- 1.9/2.5 MB 6.7 MB/s eta 0:00:01\n",
      "     ---------------------------------------  2.4/2.5 MB 7.8 MB/s eta 0:00:01\n",
      "     ---------------------------------------  2.4/2.5 MB 7.8 MB/s eta 0:00:01\n",
      "     ---------------------------------------- 2.5/2.5 MB 5.8 MB/s eta 0:00:00\n",
      "Requirement already satisfied: cffi>=1.12 in c:\\users\\rvaibhav\\appdata\\local\\programs\\python\\python311\\lib\\site-packages (from cryptography) (1.15.1)\n",
      "Requirement already satisfied: pycparser in c:\\users\\rvaibhav\\appdata\\local\\programs\\python\\python311\\lib\\site-packages (from cffi>=1.12->cryptography) (2.21)\n",
      "Installing collected packages: cryptography\n",
      "Successfully installed cryptography-39.0.2\n"
     ]
    }
   ],
   "source": [
    "!pip install mysql\n",
    "!pip install pymysql\n",
    "!pip install cryptography"
   ]
  },
  {
   "cell_type": "code",
   "execution_count": 15,
   "id": "4c424ca6",
   "metadata": {},
   "outputs": [
    {
     "name": "stdout",
     "output_type": "stream",
     "text": [
      "(('2015', '1', '1', '4', 'AS', '98', 'N407AS', 'ANC', 'SEA', '0005', '2354', '-11', '21', '0015', '205', '194', '169', '1448', '0404', '4', '0430', '0408', '-22', '0', '0', '', '', '', '', '', ''), ('2015', '1', '1', '4', 'AA', '2336', 'N3KUAA', 'LAX', 'PBI', '0010', '0002', '-8', '12', '0014', '280', '279', '263', '2330', '0737', '4', '0750', '0741', '-9', '0', '0', '', '', '', '', '', ''), ('2015', '1', '1', '4', 'US', '840', 'N171US', 'SFO', 'CLT', '0020', '0018', '-2', '16', '0034', '286', '293', '266', '2296', '0800', '11', '0806', '0811', '5', '0', '0', '', '', '', '', '', ''), ('2015', '1', '1', '4', 'AA', '258', 'N3HYAA', 'LAX', 'MIA', '0020', '0015', '-5', '15', '0030', '285', '281', '258', '2342', '0748', '8', '0805', '0756', '-9', '0', '0', '', '', '', '', '', ''), ('2015', '1', '1', '4', 'AS', '135', 'N527AS', 'SEA', 'ANC', '0025', '0024', '-1', '11', '0035', '235', '215', '199', '1448', '0254', '5', '0320', '0259', '-21', '0', '0', '', '', '', '', '', ''), ('2015', '1', '1', '4', 'DL', '806', 'N3730B', 'SFO', 'MSP', '0025', '0020', '-5', '18', '0038', '217', '230', '206', '1589', '0604', '6', '0602', '0610', '8', '0', '0', '', '', '', '', '', ''), ('2015', '1', '1', '4', 'NK', '612', 'N635NK', 'LAS', 'MSP', '0025', '0019', '-6', '11', '0030', '181', '170', '154', '1299', '0504', '5', '0526', '0509', '-17', '0', '0', '', '', '', '', '', ''), ('2015', '1', '1', '4', 'US', '2013', 'N584UW', 'LAX', 'CLT', '0030', '0044', '14', '13', '0057', '273', '249', '228', '2125', '0745', '8', '0803', '0753', '-10', '0', '0', '', '', '', '', '', ''), ('2015', '1', '1', '4', 'AA', '1112', 'N3LAAA', 'SFO', 'DFW', '0030', '0019', '-11', '17', '0036', '195', '193', '173', '1464', '0529', '3', '0545', '0532', '-13', '0', '0', '', '', '', '', '', ''), ('2015', '1', '1', '4', 'DL', '1173', 'N826DN', 'LAS', 'ATL', '0030', '0033', '3', '12', '0045', '221', '203', '186', '1747', '0651', '5', '0711', '0656', '-15', '0', '0', '', '', '', '', '', ''), ('2015', '1', '1', '4', 'DL', '2336', 'N958DN', 'DEN', 'ATL', '0030', '0024', '-6', '12', '0036', '173', '149', '133', '1199', '0449', '4', '0523', '0453', '-30', '0', '0', '', '', '', '', '', ''), ('2015', '1', '1', '4', 'AA', '1674', 'N853AA', 'LAS', 'MIA', '0035', '0027', '-8', '21', '0048', '268', '266', '238', '2174', '0746', '7', '0803', '0753', '-10', '0', '0', '', '', '', '', '', ''), ('2015', '1', '1', '4', 'DL', '1434', 'N547US', 'LAX', 'MSP', '0035', '0035', '0', '18', '0053', '214', '210', '188', '1535', '0601', '4', '0609', '0605', '-4', '0', '0', '', '', '', '', '', ''), ('2015', '1', '1', '4', 'DL', '2324', 'N3751B', 'SLC', 'ATL', '0040', '0034', '-6', '18', '0052', '215', '199', '176', '1590', '0548', '5', '0615', '0553', '-22', '0', '0', '', '', '', '', '', ''), ('2015', '1', '1', '4', 'DL', '2440', 'N651DL', 'SEA', 'MSP', '0040', '0039', '-1', '28', '0107', '189', '198', '166', '1399', '0553', '4', '0549', '0557', '8', '0', '0', '', '', '', '', '', ''), ('2015', '1', '1', '4', 'AS', '108', 'N309AS', 'ANC', 'SEA', '0045', '0041', '-4', '17', '0058', '204', '194', '173', '1448', '0451', '4', '0509', '0455', '-14', '0', '0', '', '', '', '', '', ''), ('2015', '1', '1', '4', 'DL', '1560', 'N3743H', 'ANC', 'SEA', '0045', '0031', '-14', '25', '0056', '210', '200', '171', '1448', '0447', '4', '0515', '0451', '-24', '0', '0', '', '', '', '', '', ''), ('2015', '1', '1', '4', 'UA', '1197', 'N78448', 'SFO', 'IAH', '0048', '0042', '-6', '11', '0053', '218', '217', '199', '1635', '0612', '7', '0626', '0619', '-7', '0', '0', '', '', '', '', '', ''), ('2015', '1', '1', '4', 'AS', '122', 'N413AS', 'ANC', 'PDX', '0050', '0046', '-4', '11', '0057', '215', '201', '187', '1542', '0504', '3', '0525', '0507', '-18', '0', '0', '', '', '', '', '', ''), ('2015', '1', '1', '4', 'DL', '1670', 'N806DN', 'PDX', 'MSP', '0050', '0045', '-5', '9', '0054', '193', '186', '171', '1426', '0545', '6', '0603', '0551', '-12', '0', '0', '', '', '', '', '', ''))\n"
     ]
    }
   ],
   "source": [
    "from pymysql import connect\n",
    "import pandas as pd\n",
    "\n",
    "data_base = connect(host = 'localhost',\n",
    "                    user = 'root',\n",
    "                    password = '7061')\n",
    "cur = data_base.cursor()\n",
    "query = 'SELECT * FROM flights.dataset limit 20;'\n",
    "cur.execute(query)\n",
    "data_base = cur.fetchall()\n",
    "data = data_base\n",
    "print(data)\n",
    "\n",
    "# for data in data_base:\n",
    "#     print(data)"
   ]
  },
  {
   "cell_type": "code",
   "execution_count": 16,
   "id": "c4237ea6",
   "metadata": {},
   "outputs": [
    {
     "ename": "AttributeError",
     "evalue": "'tuple' object has no attribute 'info'",
     "output_type": "error",
     "traceback": [
      "\u001b[1;31m---------------------------------------------------------------------------\u001b[0m",
      "\u001b[1;31mAttributeError\u001b[0m                            Traceback (most recent call last)",
      "Cell \u001b[1;32mIn[16], line 1\u001b[0m\n\u001b[1;32m----> 1\u001b[0m \u001b[43mdata\u001b[49m\u001b[38;5;241;43m.\u001b[39;49m\u001b[43minfo\u001b[49m()\n",
      "\u001b[1;31mAttributeError\u001b[0m: 'tuple' object has no attribute 'info'"
     ]
    }
   ],
   "source": [
    "data.info()"
   ]
  },
  {
   "cell_type": "code",
   "execution_count": null,
   "id": "47d8a8d0",
   "metadata": {},
   "outputs": [],
   "source": []
  },
  {
   "cell_type": "code",
   "execution_count": null,
   "id": "d6f7cfdc",
   "metadata": {},
   "outputs": [],
   "source": []
  },
  {
   "cell_type": "code",
   "execution_count": null,
   "id": "64ad8c2a",
   "metadata": {},
   "outputs": [],
   "source": []
  }
 ],
 "metadata": {
  "kernelspec": {
   "display_name": "Python 3 (ipykernel)",
   "language": "python",
   "name": "python3"
  },
  "language_info": {
   "codemirror_mode": {
    "name": "ipython",
    "version": 3
   },
   "file_extension": ".py",
   "mimetype": "text/x-python",
   "name": "python",
   "nbconvert_exporter": "python",
   "pygments_lexer": "ipython3",
   "version": "3.11.0"
  }
 },
 "nbformat": 4,
 "nbformat_minor": 5
}

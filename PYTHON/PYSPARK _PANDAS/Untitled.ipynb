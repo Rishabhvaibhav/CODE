{
 "cells": [
  {
   "cell_type": "markdown",
   "id": "6ba8b0b0",
   "metadata": {},
   "source": [
    "# Flight Delay and Cancellations"
   ]
  },
  {
   "cell_type": "code",
   "execution_count": 1,
   "id": "b1be554b",
   "metadata": {},
   "outputs": [],
   "source": [
    "import mysql.connector\n",
    "import pandas as pd"
   ]
  },
  {
   "cell_type": "code",
   "execution_count": 9,
   "id": "3d2e55ca",
   "metadata": {},
   "outputs": [],
   "source": [
    "con = mysql.connector.connect(host='localhost',user='root',passwd='7061',database = 'flights')"
   ]
  },
  {
   "cell_type": "code",
   "execution_count": 3,
   "id": "254ba074",
   "metadata": {},
   "outputs": [],
   "source": [
    "# print(con)"
   ]
  },
  {
   "cell_type": "code",
   "execution_count": 4,
   "id": "81fdb492",
   "metadata": {},
   "outputs": [],
   "source": [
    "# c = con.cursor()"
   ]
  },
  {
   "cell_type": "code",
   "execution_count": 33,
   "id": "69c694e6",
   "metadata": {},
   "outputs": [
    {
     "name": "stderr",
     "output_type": "stream",
     "text": [
      "C:\\Users\\rvaibhav\\AppData\\Local\\Temp\\ipykernel_12928\\1495003204.py:1: UserWarning: pandas only supports SQLAlchemy connectable (engine/connection) or database string URI or sqlite3 DBAPI2 connection. Other DBAPI2 objects are not tested. Please consider using SQLAlchemy.\n",
      "  flight_data  = pd.read_sql_query(\"select * from flights.dataset  limit 5;\",con)\n",
      "C:\\Users\\rvaibhav\\AppData\\Local\\Temp\\ipykernel_12928\\1495003204.py:2: UserWarning: pandas only supports SQLAlchemy connectable (engine/connection) or database string URI or sqlite3 DBAPI2 connection. Other DBAPI2 objects are not tested. Please consider using SQLAlchemy.\n",
      "  airline_data = pd.read_sql_query(\"select * from airlines.airline limit 5;\",con)\n",
      "C:\\Users\\rvaibhav\\AppData\\Local\\Temp\\ipykernel_12928\\1495003204.py:3: UserWarning: pandas only supports SQLAlchemy connectable (engine/connection) or database string URI or sqlite3 DBAPI2 connection. Other DBAPI2 objects are not tested. Please consider using SQLAlchemy.\n",
      "  airport_data = pd.read_sql_query(\"select * from airports.airport limit 5;\",con)\n"
     ]
    }
   ],
   "source": [
    "flight_data  = pd.read_sql_query(\"select * from flights.dataset ;\",con)\n",
    "airline_data = pd.read_sql_query(\"select * from airlines.airline ;\",con)\n",
    "airport_data = pd.read_sql_query(\"select * from airports.airport ;\",con)"
   ]
  },
  {
   "cell_type": "code",
   "execution_count": 34,
   "id": "95f01e17",
   "metadata": {},
   "outputs": [
    {
     "name": "stdout",
     "output_type": "stream",
     "text": [
      "FLIGHT DATA SHAPE \n",
      " (5, 31)\n",
      "AIRLINE DATA SHAPE \n",
      " (5, 2)\n",
      "AIRPORT DATA SHAPE \n",
      " (5, 7)\n"
     ]
    }
   ],
   "source": [
    "print(\"FLIGHT DATA SHAPE \\n\",flight_data.shape)\n",
    "print(\"AIRLINE DATA SHAPE \\n\",airline_data.shape)\n",
    "print(\"AIRPORT DATA SHAPE \\n\",airport_data.shape)"
   ]
  },
  {
   "cell_type": "code",
   "execution_count": 35,
   "id": "4d382398",
   "metadata": {},
   "outputs": [
    {
     "data": {
      "text/html": [
       "<div>\n",
       "<style scoped>\n",
       "    .dataframe tbody tr th:only-of-type {\n",
       "        vertical-align: middle;\n",
       "    }\n",
       "\n",
       "    .dataframe tbody tr th {\n",
       "        vertical-align: top;\n",
       "    }\n",
       "\n",
       "    .dataframe thead th {\n",
       "        text-align: right;\n",
       "    }\n",
       "</style>\n",
       "<table border=\"1\" class=\"dataframe\">\n",
       "  <thead>\n",
       "    <tr style=\"text-align: right;\">\n",
       "      <th></th>\n",
       "      <th>YEAR</th>\n",
       "      <th>MONTH</th>\n",
       "      <th>DAY</th>\n",
       "      <th>DAY_OF_WEEK</th>\n",
       "      <th>AIRLINE</th>\n",
       "      <th>FLIGHT_NUMBER</th>\n",
       "      <th>TAIL_NUMBER</th>\n",
       "      <th>ORIGIN_AIRPORT</th>\n",
       "      <th>DESTINATION_AIRPORT</th>\n",
       "      <th>SCHEDULED_DEPARTURE</th>\n",
       "      <th>...</th>\n",
       "      <th>ARRIVAL_TIME</th>\n",
       "      <th>ARRIVAL_DELAY</th>\n",
       "      <th>DIVERTED</th>\n",
       "      <th>CANCELLED</th>\n",
       "      <th>CANCELLATION_REASON</th>\n",
       "      <th>AIR_SYSTEM_DELAY</th>\n",
       "      <th>SECURITY_DELAY</th>\n",
       "      <th>AIRLINE_DELAY</th>\n",
       "      <th>LATE_AIRCRAFT_DELAY</th>\n",
       "      <th>WEATHER_DELAY</th>\n",
       "    </tr>\n",
       "  </thead>\n",
       "  <tbody>\n",
       "    <tr>\n",
       "      <th>0</th>\n",
       "      <td>2015</td>\n",
       "      <td>1</td>\n",
       "      <td>1</td>\n",
       "      <td>4</td>\n",
       "      <td>AS</td>\n",
       "      <td>98</td>\n",
       "      <td>N407AS</td>\n",
       "      <td>ANC</td>\n",
       "      <td>SEA</td>\n",
       "      <td>0005</td>\n",
       "      <td>...</td>\n",
       "      <td>0408</td>\n",
       "      <td>-22</td>\n",
       "      <td>0</td>\n",
       "      <td>0</td>\n",
       "      <td></td>\n",
       "      <td></td>\n",
       "      <td></td>\n",
       "      <td></td>\n",
       "      <td></td>\n",
       "      <td></td>\n",
       "    </tr>\n",
       "    <tr>\n",
       "      <th>1</th>\n",
       "      <td>2015</td>\n",
       "      <td>1</td>\n",
       "      <td>1</td>\n",
       "      <td>4</td>\n",
       "      <td>AA</td>\n",
       "      <td>2336</td>\n",
       "      <td>N3KUAA</td>\n",
       "      <td>LAX</td>\n",
       "      <td>PBI</td>\n",
       "      <td>0010</td>\n",
       "      <td>...</td>\n",
       "      <td>0741</td>\n",
       "      <td>-9</td>\n",
       "      <td>0</td>\n",
       "      <td>0</td>\n",
       "      <td></td>\n",
       "      <td></td>\n",
       "      <td></td>\n",
       "      <td></td>\n",
       "      <td></td>\n",
       "      <td></td>\n",
       "    </tr>\n",
       "    <tr>\n",
       "      <th>2</th>\n",
       "      <td>2015</td>\n",
       "      <td>1</td>\n",
       "      <td>1</td>\n",
       "      <td>4</td>\n",
       "      <td>US</td>\n",
       "      <td>840</td>\n",
       "      <td>N171US</td>\n",
       "      <td>SFO</td>\n",
       "      <td>CLT</td>\n",
       "      <td>0020</td>\n",
       "      <td>...</td>\n",
       "      <td>0811</td>\n",
       "      <td>5</td>\n",
       "      <td>0</td>\n",
       "      <td>0</td>\n",
       "      <td></td>\n",
       "      <td></td>\n",
       "      <td></td>\n",
       "      <td></td>\n",
       "      <td></td>\n",
       "      <td></td>\n",
       "    </tr>\n",
       "    <tr>\n",
       "      <th>3</th>\n",
       "      <td>2015</td>\n",
       "      <td>1</td>\n",
       "      <td>1</td>\n",
       "      <td>4</td>\n",
       "      <td>AA</td>\n",
       "      <td>258</td>\n",
       "      <td>N3HYAA</td>\n",
       "      <td>LAX</td>\n",
       "      <td>MIA</td>\n",
       "      <td>0020</td>\n",
       "      <td>...</td>\n",
       "      <td>0756</td>\n",
       "      <td>-9</td>\n",
       "      <td>0</td>\n",
       "      <td>0</td>\n",
       "      <td></td>\n",
       "      <td></td>\n",
       "      <td></td>\n",
       "      <td></td>\n",
       "      <td></td>\n",
       "      <td></td>\n",
       "    </tr>\n",
       "    <tr>\n",
       "      <th>4</th>\n",
       "      <td>2015</td>\n",
       "      <td>1</td>\n",
       "      <td>1</td>\n",
       "      <td>4</td>\n",
       "      <td>AS</td>\n",
       "      <td>135</td>\n",
       "      <td>N527AS</td>\n",
       "      <td>SEA</td>\n",
       "      <td>ANC</td>\n",
       "      <td>0025</td>\n",
       "      <td>...</td>\n",
       "      <td>0259</td>\n",
       "      <td>-21</td>\n",
       "      <td>0</td>\n",
       "      <td>0</td>\n",
       "      <td></td>\n",
       "      <td></td>\n",
       "      <td></td>\n",
       "      <td></td>\n",
       "      <td></td>\n",
       "      <td></td>\n",
       "    </tr>\n",
       "  </tbody>\n",
       "</table>\n",
       "<p>5 rows × 31 columns</p>\n",
       "</div>"
      ],
      "text/plain": [
       "   YEAR MONTH DAY DAY_OF_WEEK AIRLINE FLIGHT_NUMBER TAIL_NUMBER  \\\n",
       "0  2015     1   1           4      AS            98      N407AS   \n",
       "1  2015     1   1           4      AA          2336      N3KUAA   \n",
       "2  2015     1   1           4      US           840      N171US   \n",
       "3  2015     1   1           4      AA           258      N3HYAA   \n",
       "4  2015     1   1           4      AS           135      N527AS   \n",
       "\n",
       "  ORIGIN_AIRPORT DESTINATION_AIRPORT SCHEDULED_DEPARTURE  ... ARRIVAL_TIME  \\\n",
       "0            ANC                 SEA                0005  ...         0408   \n",
       "1            LAX                 PBI                0010  ...         0741   \n",
       "2            SFO                 CLT                0020  ...         0811   \n",
       "3            LAX                 MIA                0020  ...         0756   \n",
       "4            SEA                 ANC                0025  ...         0259   \n",
       "\n",
       "  ARRIVAL_DELAY DIVERTED CANCELLED CANCELLATION_REASON AIR_SYSTEM_DELAY  \\\n",
       "0           -22        0         0                                        \n",
       "1            -9        0         0                                        \n",
       "2             5        0         0                                        \n",
       "3            -9        0         0                                        \n",
       "4           -21        0         0                                        \n",
       "\n",
       "  SECURITY_DELAY AIRLINE_DELAY LATE_AIRCRAFT_DELAY WEATHER_DELAY  \n",
       "0                                                                 \n",
       "1                                                                 \n",
       "2                                                                 \n",
       "3                                                                 \n",
       "4                                                                 \n",
       "\n",
       "[5 rows x 31 columns]"
      ]
     },
     "execution_count": 35,
     "metadata": {},
     "output_type": "execute_result"
    }
   ],
   "source": [
    "flight_data.head()\n",
    "\n"
   ]
  },
  {
   "cell_type": "code",
   "execution_count": 36,
   "id": "e6aa177e",
   "metadata": {},
   "outputs": [
    {
     "data": {
      "text/html": [
       "<div>\n",
       "<style scoped>\n",
       "    .dataframe tbody tr th:only-of-type {\n",
       "        vertical-align: middle;\n",
       "    }\n",
       "\n",
       "    .dataframe tbody tr th {\n",
       "        vertical-align: top;\n",
       "    }\n",
       "\n",
       "    .dataframe thead th {\n",
       "        text-align: right;\n",
       "    }\n",
       "</style>\n",
       "<table border=\"1\" class=\"dataframe\">\n",
       "  <thead>\n",
       "    <tr style=\"text-align: right;\">\n",
       "      <th></th>\n",
       "      <th>IATA_CODE</th>\n",
       "      <th>AIRLINE</th>\n",
       "    </tr>\n",
       "  </thead>\n",
       "  <tbody>\n",
       "    <tr>\n",
       "      <th>0</th>\n",
       "      <td>UA</td>\n",
       "      <td>United Air Lines Inc.</td>\n",
       "    </tr>\n",
       "    <tr>\n",
       "      <th>1</th>\n",
       "      <td>AA</td>\n",
       "      <td>American Airlines Inc.</td>\n",
       "    </tr>\n",
       "    <tr>\n",
       "      <th>2</th>\n",
       "      <td>US</td>\n",
       "      <td>US Airways Inc.</td>\n",
       "    </tr>\n",
       "    <tr>\n",
       "      <th>3</th>\n",
       "      <td>F9</td>\n",
       "      <td>Frontier Airlines Inc.</td>\n",
       "    </tr>\n",
       "    <tr>\n",
       "      <th>4</th>\n",
       "      <td>B6</td>\n",
       "      <td>JetBlue Airways</td>\n",
       "    </tr>\n",
       "  </tbody>\n",
       "</table>\n",
       "</div>"
      ],
      "text/plain": [
       "  IATA_CODE                 AIRLINE\n",
       "0        UA   United Air Lines Inc.\n",
       "1        AA  American Airlines Inc.\n",
       "2        US         US Airways Inc.\n",
       "3        F9  Frontier Airlines Inc.\n",
       "4        B6         JetBlue Airways"
      ]
     },
     "execution_count": 36,
     "metadata": {},
     "output_type": "execute_result"
    }
   ],
   "source": [
    "airline_data.head()"
   ]
  },
  {
   "cell_type": "code",
   "execution_count": 37,
   "id": "9df847c0",
   "metadata": {},
   "outputs": [
    {
     "data": {
      "text/html": [
       "<div>\n",
       "<style scoped>\n",
       "    .dataframe tbody tr th:only-of-type {\n",
       "        vertical-align: middle;\n",
       "    }\n",
       "\n",
       "    .dataframe tbody tr th {\n",
       "        vertical-align: top;\n",
       "    }\n",
       "\n",
       "    .dataframe thead th {\n",
       "        text-align: right;\n",
       "    }\n",
       "</style>\n",
       "<table border=\"1\" class=\"dataframe\">\n",
       "  <thead>\n",
       "    <tr style=\"text-align: right;\">\n",
       "      <th></th>\n",
       "      <th>IATA_CODE</th>\n",
       "      <th>AIRPORT</th>\n",
       "      <th>CITY</th>\n",
       "      <th>STATE</th>\n",
       "      <th>COUNTRY</th>\n",
       "      <th>LATITUDE</th>\n",
       "      <th>LONGITUDE</th>\n",
       "    </tr>\n",
       "  </thead>\n",
       "  <tbody>\n",
       "    <tr>\n",
       "      <th>0</th>\n",
       "      <td>ABE</td>\n",
       "      <td>Lehigh Valley International Airport</td>\n",
       "      <td>Allentown</td>\n",
       "      <td>PA</td>\n",
       "      <td>USA</td>\n",
       "      <td>40.65236</td>\n",
       "      <td>-75.44040</td>\n",
       "    </tr>\n",
       "    <tr>\n",
       "      <th>1</th>\n",
       "      <td>ABI</td>\n",
       "      <td>Abilene Regional Airport</td>\n",
       "      <td>Abilene</td>\n",
       "      <td>TX</td>\n",
       "      <td>USA</td>\n",
       "      <td>32.41132</td>\n",
       "      <td>-99.68190</td>\n",
       "    </tr>\n",
       "    <tr>\n",
       "      <th>2</th>\n",
       "      <td>ABQ</td>\n",
       "      <td>Albuquerque International Sunport</td>\n",
       "      <td>Albuquerque</td>\n",
       "      <td>NM</td>\n",
       "      <td>USA</td>\n",
       "      <td>35.04022</td>\n",
       "      <td>-106.60919</td>\n",
       "    </tr>\n",
       "    <tr>\n",
       "      <th>3</th>\n",
       "      <td>ABR</td>\n",
       "      <td>Aberdeen Regional Airport</td>\n",
       "      <td>Aberdeen</td>\n",
       "      <td>SD</td>\n",
       "      <td>USA</td>\n",
       "      <td>45.44906</td>\n",
       "      <td>-98.42183</td>\n",
       "    </tr>\n",
       "    <tr>\n",
       "      <th>4</th>\n",
       "      <td>ABY</td>\n",
       "      <td>Southwest Georgia Regional Airport</td>\n",
       "      <td>Albany</td>\n",
       "      <td>GA</td>\n",
       "      <td>USA</td>\n",
       "      <td>31.53552</td>\n",
       "      <td>-84.19447</td>\n",
       "    </tr>\n",
       "  </tbody>\n",
       "</table>\n",
       "</div>"
      ],
      "text/plain": [
       "  IATA_CODE                              AIRPORT         CITY STATE COUNTRY  \\\n",
       "0       ABE  Lehigh Valley International Airport    Allentown    PA     USA   \n",
       "1       ABI             Abilene Regional Airport      Abilene    TX     USA   \n",
       "2       ABQ    Albuquerque International Sunport  Albuquerque    NM     USA   \n",
       "3       ABR            Aberdeen Regional Airport     Aberdeen    SD     USA   \n",
       "4       ABY   Southwest Georgia Regional Airport       Albany    GA     USA   \n",
       "\n",
       "   LATITUDE   LONGITUDE  \n",
       "0  40.65236   -75.44040  \n",
       "1  32.41132   -99.68190  \n",
       "2  35.04022  -106.60919  \n",
       "3  45.44906   -98.42183  \n",
       "4  31.53552   -84.19447  "
      ]
     },
     "execution_count": 37,
     "metadata": {},
     "output_type": "execute_result"
    }
   ],
   "source": [
    "airport_data.head()"
   ]
  },
  {
   "cell_type": "code",
   "execution_count": 38,
   "id": "7496dc5b",
   "metadata": {},
   "outputs": [
    {
     "data": {
      "text/plain": [
       "array(['YEAR', 'MONTH', 'DAY', 'DAY_OF_WEEK', 'AIRLINE', 'FLIGHT_NUMBER',\n",
       "       'TAIL_NUMBER', 'ORIGIN_AIRPORT', 'DESTINATION_AIRPORT',\n",
       "       'SCHEDULED_DEPARTURE', 'DEPARTURE_TIME', 'DEPARTURE_DELAY',\n",
       "       'TAXI_OUT', 'WHEELS_OFF', 'SCHEDULED_TIME', 'ELAPSED_TIME',\n",
       "       'AIR_TIME', 'DISTANCE', 'WHEELS_ON', 'TAXI_IN',\n",
       "       'SCHEDULED_ARRIVAL', 'ARRIVAL_TIME', 'ARRIVAL_DELAY', 'DIVERTED',\n",
       "       'CANCELLED', 'CANCELLATION_REASON', 'AIR_SYSTEM_DELAY',\n",
       "       'SECURITY_DELAY', 'AIRLINE_DELAY', 'LATE_AIRCRAFT_DELAY',\n",
       "       'WEATHER_DELAY'], dtype=object)"
      ]
     },
     "execution_count": 38,
     "metadata": {},
     "output_type": "execute_result"
    }
   ],
   "source": [
    "flight_data.columns.values"
   ]
  },
  {
   "cell_type": "code",
   "execution_count": 39,
   "id": "d04d391c",
   "metadata": {},
   "outputs": [],
   "source": [
    "flight_data=flight_data[['YEAR', 'MONTH', 'DAY', 'DAY_OF_WEEK', 'AIRLINE', 'FLIGHT_NUMBER',\n",
    "       'TAIL_NUMBER', 'ORIGIN_AIRPORT', 'DESTINATION_AIRPORT',\n",
    "       'SCHEDULED_DEPARTURE', 'DEPARTURE_TIME', 'DEPARTURE_DELAY',\n",
    "       'SCHEDULED_TIME','DISTANCE', 'SCHEDULED_ARRIVAL',\n",
    "       'ARRIVAL_TIME', 'ARRIVAL_DELAY', 'DIVERTED', 'CANCELLED',\n",
    "       'CANCELLATION_REASON', 'AIR_SYSTEM_DELAY', 'SECURITY_DELAY',\n",
    "       'AIRLINE_DELAY', 'LATE_AIRCRAFT_DELAY', 'WEATHER_DELAY']]"
   ]
  },
  {
   "cell_type": "code",
   "execution_count": 48,
   "id": "a32e2f30",
   "metadata": {},
   "outputs": [],
   "source": [
    "flight_data['DEPARTURE_TIME']=flight_data['DEPARTURE_TIME'].fillna(0)\n",
    "flight_data['DEPARTURE_TIME']=flight_data['DEPARTURE_TIME'].astype(int)"
   ]
  },
  {
   "cell_type": "code",
   "execution_count": 49,
   "id": "31f8087c",
   "metadata": {},
   "outputs": [],
   "source": [
    "flight_data['SCHEDULED_DEPARTURE'] = flight_data['SCHEDULED_DEPARTURE'].astype(int).apply(lambda x: f\"{x:04d}\")\n"
   ]
  },
  {
   "cell_type": "code",
   "execution_count": 51,
   "id": "fffe196f",
   "metadata": {},
   "outputs": [
    {
     "data": {
      "text/plain": [
       "0    0005\n",
       "1    0010\n",
       "2    0020\n",
       "3    0020\n",
       "4    0025\n",
       "Name: SCHEDULED_DEPARTURE, dtype: object"
      ]
     },
     "execution_count": 51,
     "metadata": {},
     "output_type": "execute_result"
    }
   ],
   "source": [
    "flight_data['SCHEDULED_DEPARTURE'].head()"
   ]
  },
  {
   "cell_type": "code",
   "execution_count": 53,
   "id": "fb96b695",
   "metadata": {},
   "outputs": [],
   "source": [
    "flight_data['SCHEDULED_DEPARTURE_DATE'] = (\n",
    "    flight_data['YEAR'].astype(str)\n",
    "    + '-' + flight_data['MONTH'].astype(str).str.zfill(2)\n",
    "    + '-' + flight_data['DAY'].astype(str).str.zfill(2)\n",
    "    + '-' + flight_data['SCHEDULED_DEPARTURE'].astype(str).str.zfill(4)\n",
    ")"
   ]
  },
  {
   "cell_type": "markdown",
   "id": "c319dcd3",
   "metadata": {},
   "source": [
    "errors='coerce' means it shows NaN when any unwanted column is there"
   ]
  },
  {
   "cell_type": "code",
   "execution_count": 55,
   "id": "4f5a1ca9",
   "metadata": {},
   "outputs": [],
   "source": [
    "flight_data['SCHEDULED_DEPARTURE_DATE'] = pd.to_datetime(\n",
    "    flight_data['SCHEDULED_DEPARTURE_DATE'], \n",
    "    errors='coerce', \n",
    "    infer_datetime_format=True\n",
    ")\n"
   ]
  },
  {
   "cell_type": "code",
   "execution_count": 56,
   "id": "c6e110d8",
   "metadata": {},
   "outputs": [],
   "source": [
    "flight_data['DEPARTURE_DATE'] = pd.to_datetime(\n",
    "    flight_data['YEAR'].astype(str) + '-' + flight_data['MONTH'].astype(str) + '-' + flight_data['DAY'].astype(str) + '-' + flight_data['DEPARTURE_TIME'].astype(str).str.zfill(4), \n",
    "    format='%Y-%m-%d-%H%M', \n",
    "    errors='coerce'\n",
    ")\n"
   ]
  },
  {
   "cell_type": "code",
   "execution_count": 58,
   "id": "ab1269a7",
   "metadata": {},
   "outputs": [],
   "source": [
    "flight_data['DEPARTURE_DATE'] = pd.to_datetime(\n",
    "    flight_data['YEAR'].astype(str) + '-' +\n",
    "    flight_data['MONTH'].astype(str) + '-' +\n",
    "    flight_data['DAY'].astype(str) + '-' +\n",
    "    flight_data['DEPARTURE_TIME'].apply(lambda x: str(x).zfill(4)),\n",
    "    format='%Y-%m-%d-%H%M', errors='coerce'\n",
    ")"
   ]
  },
  {
   "cell_type": "code",
   "execution_count": 62,
   "id": "1d39e4ac",
   "metadata": {},
   "outputs": [],
   "source": [
    "flight_data[['SCHEDULED_ARRIVAL', 'ARRIVAL_TIME']] = flight_data[['SCHEDULED_ARRIVAL', 'ARRIVAL_TIME']]"
   ]
  },
  {
   "cell_type": "markdown",
   "id": "9419b7e3",
   "metadata": {},
   "source": [
    "# SPEED"
   ]
  },
  {
   "cell_type": "markdown",
   "id": "9907af3e",
   "metadata": {},
   "source": [
    "Speed = Distance/time"
   ]
  },
  {
   "cell_type": "code",
   "execution_count": 59,
   "id": "1ecbb972",
   "metadata": {},
   "outputs": [],
   "source": [
    "flight_data['SCHEDULED_ARRIVAL'] = flight_data['SCHEDULED_ARRIVAL'].astype(str).str.zfill(4)\n",
    "flight_data['ARRIVAL_TIME'] = flight_data['ARRIVAL_TIME'].fillna(0).astype(int).astype(str).str.zfill(4)\n",
    "\n",
    "flight_data['SCHEDULED_ARRIVAL_DATE'] = pd.to_datetime(flight_data['YEAR'].astype(str) + '-' + flight_data['MONTH'].astype(str).str.zfill(2) + '-' + flight_data['DAY'].astype(str).str.zfill(2) + '-' + flight_data['SCHEDULED_ARRIVAL'], format='%Y-%m-%d-%H%M', errors='coerce')\n",
    "flight_data['ARRIVAL_DATE'] = pd.to_datetime(flight_data['YEAR'].astype(str) + '-' + flight_data['MONTH'].astype(str).str.zfill(2) + '-' + flight_data['DAY'].astype(str).str.zfill(2) + '-' + flight_data['ARRIVAL_TIME'], format='%Y-%m-%d-%H%M', errors='coerce')\n"
   ]
  },
  {
   "cell_type": "code",
   "execution_count": 60,
   "id": "c9c767a1",
   "metadata": {},
   "outputs": [
    {
     "data": {
      "text/plain": [
       "0    0408\n",
       "1    0741\n",
       "2    0811\n",
       "3    0756\n",
       "4    0259\n",
       "Name: ARRIVAL_TIME, dtype: object"
      ]
     },
     "execution_count": 60,
     "metadata": {},
     "output_type": "execute_result"
    }
   ],
   "source": [
    "flight_data[\"ARRIVAL_TIME\"].head()"
   ]
  },
  {
   "cell_type": "code",
   "execution_count": 66,
   "id": "c09ba0c3",
   "metadata": {},
   "outputs": [],
   "source": [
    "flight_data[\"FLIGHT_TIME\"]=flight_data['ARRIVAL_DATE']-flight_data['DEPARTURE_DATE']"
   ]
  },
  {
   "cell_type": "code",
   "execution_count": 68,
   "id": "f800ec07",
   "metadata": {},
   "outputs": [
    {
     "data": {
      "text/html": [
       "<div>\n",
       "<style scoped>\n",
       "    .dataframe tbody tr th:only-of-type {\n",
       "        vertical-align: middle;\n",
       "    }\n",
       "\n",
       "    .dataframe tbody tr th {\n",
       "        vertical-align: top;\n",
       "    }\n",
       "\n",
       "    .dataframe thead th {\n",
       "        text-align: right;\n",
       "    }\n",
       "</style>\n",
       "<table border=\"1\" class=\"dataframe\">\n",
       "  <thead>\n",
       "    <tr style=\"text-align: right;\">\n",
       "      <th></th>\n",
       "      <th>ARRIVAL_DATE</th>\n",
       "      <th>DEPARTURE_DATE</th>\n",
       "      <th>FLIGHT_TIME</th>\n",
       "    </tr>\n",
       "  </thead>\n",
       "  <tbody>\n",
       "    <tr>\n",
       "      <th>0</th>\n",
       "      <td>2015-01-01 04:08:00</td>\n",
       "      <td>2015-01-01 23:54:00</td>\n",
       "      <td>-1 days +04:14:00</td>\n",
       "    </tr>\n",
       "    <tr>\n",
       "      <th>1</th>\n",
       "      <td>2015-01-01 07:41:00</td>\n",
       "      <td>2015-01-01 00:02:00</td>\n",
       "      <td>0 days 07:39:00</td>\n",
       "    </tr>\n",
       "    <tr>\n",
       "      <th>2</th>\n",
       "      <td>2015-01-01 08:11:00</td>\n",
       "      <td>2015-01-01 00:18:00</td>\n",
       "      <td>0 days 07:53:00</td>\n",
       "    </tr>\n",
       "    <tr>\n",
       "      <th>3</th>\n",
       "      <td>2015-01-01 07:56:00</td>\n",
       "      <td>2015-01-01 00:15:00</td>\n",
       "      <td>0 days 07:41:00</td>\n",
       "    </tr>\n",
       "    <tr>\n",
       "      <th>4</th>\n",
       "      <td>2015-01-01 02:59:00</td>\n",
       "      <td>2015-01-01 00:24:00</td>\n",
       "      <td>0 days 02:35:00</td>\n",
       "    </tr>\n",
       "  </tbody>\n",
       "</table>\n",
       "</div>"
      ],
      "text/plain": [
       "         ARRIVAL_DATE      DEPARTURE_DATE       FLIGHT_TIME\n",
       "0 2015-01-01 04:08:00 2015-01-01 23:54:00 -1 days +04:14:00\n",
       "1 2015-01-01 07:41:00 2015-01-01 00:02:00   0 days 07:39:00\n",
       "2 2015-01-01 08:11:00 2015-01-01 00:18:00   0 days 07:53:00\n",
       "3 2015-01-01 07:56:00 2015-01-01 00:15:00   0 days 07:41:00\n",
       "4 2015-01-01 02:59:00 2015-01-01 00:24:00   0 days 02:35:00"
      ]
     },
     "execution_count": 68,
     "metadata": {},
     "output_type": "execute_result"
    }
   ],
   "source": [
    "flight_data[[\"ARRIVAL_DATE\",\"DEPARTURE_DATE\",'FLIGHT_TIME']].head()"
   ]
  },
  {
   "cell_type": "code",
   "execution_count": 69,
   "id": "4f7b6307",
   "metadata": {},
   "outputs": [],
   "source": [
    "flight_data[\"FLIGHT_TIME_IN_MINUTES\"]=flight_data['FLIGHT_TIME'].apply(lambda x: int(x.seconds/60) if x.seconds>0 else 0)"
   ]
  },
  {
   "cell_type": "code",
   "execution_count": 71,
   "id": "7220e6b9",
   "metadata": {},
   "outputs": [],
   "source": [
    "import pandas as pd\n",
    "import numpy as np\n",
    "\n",
    "# convert DISTANCE and FLIGHT_TIME_IN_MINUTES columns to numeric types\n",
    "flight_data['DISTANCE'] = pd.to_numeric(flight_data['DISTANCE'], errors='coerce')\n",
    "flight_data['FLIGHT_TIME_IN_MINUTES'] = pd.to_numeric(flight_data['FLIGHT_TIME_IN_MINUTES'], errors='coerce')\n",
    "\n",
    "# calculate SPEED column with conditional division\n",
    "flight_data['SPEED'] = np.where(flight_data['FLIGHT_TIME_IN_MINUTES'] > 0, \n",
    "                                flight_data['DISTANCE'] / flight_data['FLIGHT_TIME_IN_MINUTES'], \n",
    "                                0)\n"
   ]
  },
  {
   "cell_type": "code",
   "execution_count": 73,
   "id": "8a95f8e0",
   "metadata": {},
   "outputs": [
    {
     "data": {
      "text/html": [
       "<div>\n",
       "<style scoped>\n",
       "    .dataframe tbody tr th:only-of-type {\n",
       "        vertical-align: middle;\n",
       "    }\n",
       "\n",
       "    .dataframe tbody tr th {\n",
       "        vertical-align: top;\n",
       "    }\n",
       "\n",
       "    .dataframe thead th {\n",
       "        text-align: right;\n",
       "    }\n",
       "</style>\n",
       "<table border=\"1\" class=\"dataframe\">\n",
       "  <thead>\n",
       "    <tr style=\"text-align: right;\">\n",
       "      <th></th>\n",
       "      <th>SPEED</th>\n",
       "      <th>DISTANCE</th>\n",
       "      <th>FLIGHT_TIME_IN_MINUTES</th>\n",
       "      <th>ARRIVAL_DATE</th>\n",
       "      <th>DEPARTURE_DATE</th>\n",
       "    </tr>\n",
       "  </thead>\n",
       "  <tbody>\n",
       "    <tr>\n",
       "      <th>4</th>\n",
       "      <td>9.341935</td>\n",
       "      <td>1448</td>\n",
       "      <td>155</td>\n",
       "      <td>2015-01-01 02:59:00</td>\n",
       "      <td>2015-01-01 00:24:00</td>\n",
       "    </tr>\n",
       "    <tr>\n",
       "      <th>0</th>\n",
       "      <td>5.700787</td>\n",
       "      <td>1448</td>\n",
       "      <td>254</td>\n",
       "      <td>2015-01-01 04:08:00</td>\n",
       "      <td>2015-01-01 23:54:00</td>\n",
       "    </tr>\n",
       "    <tr>\n",
       "      <th>3</th>\n",
       "      <td>5.080260</td>\n",
       "      <td>2342</td>\n",
       "      <td>461</td>\n",
       "      <td>2015-01-01 07:56:00</td>\n",
       "      <td>2015-01-01 00:15:00</td>\n",
       "    </tr>\n",
       "    <tr>\n",
       "      <th>1</th>\n",
       "      <td>5.076253</td>\n",
       "      <td>2330</td>\n",
       "      <td>459</td>\n",
       "      <td>2015-01-01 07:41:00</td>\n",
       "      <td>2015-01-01 00:02:00</td>\n",
       "    </tr>\n",
       "    <tr>\n",
       "      <th>2</th>\n",
       "      <td>4.854123</td>\n",
       "      <td>2296</td>\n",
       "      <td>473</td>\n",
       "      <td>2015-01-01 08:11:00</td>\n",
       "      <td>2015-01-01 00:18:00</td>\n",
       "    </tr>\n",
       "  </tbody>\n",
       "</table>\n",
       "</div>"
      ],
      "text/plain": [
       "      SPEED  DISTANCE  FLIGHT_TIME_IN_MINUTES        ARRIVAL_DATE  \\\n",
       "4  9.341935      1448                     155 2015-01-01 02:59:00   \n",
       "0  5.700787      1448                     254 2015-01-01 04:08:00   \n",
       "3  5.080260      2342                     461 2015-01-01 07:56:00   \n",
       "1  5.076253      2330                     459 2015-01-01 07:41:00   \n",
       "2  4.854123      2296                     473 2015-01-01 08:11:00   \n",
       "\n",
       "       DEPARTURE_DATE  \n",
       "4 2015-01-01 00:24:00  \n",
       "0 2015-01-01 23:54:00  \n",
       "3 2015-01-01 00:15:00  \n",
       "1 2015-01-01 00:02:00  \n",
       "2 2015-01-01 00:18:00  "
      ]
     },
     "execution_count": 73,
     "metadata": {},
     "output_type": "execute_result"
    }
   ],
   "source": [
    "flight_data[['SPEED','DISTANCE','FLIGHT_TIME_IN_MINUTES','ARRIVAL_DATE','DEPARTURE_DATE']].sort_values(by=[\"SPEED\"],ascending=False)"
   ]
  },
  {
   "cell_type": "code",
   "execution_count": null,
   "id": "1a5378db",
   "metadata": {},
   "outputs": [],
   "source": [
    "#Speed by AIRLINES\n",
    "flights=flights_data[[\"AIRLINE\",\"SPEED\"]].groupby(['AIRLINE']).mean().reset_index()"
   ]
  },
  {
   "cell_type": "code",
   "execution_count": null,
   "id": "fb03df08",
   "metadata": {},
   "outputs": [],
   "source": [
    "airlines_data[\"MEAN_SPEED\"]=get_airline_information(\"SPEED\",airlines_data,flights)\n",
    "airlines_data[[\"AIRLINE\",\"MEAN_SPEED\"]].sort_values(by=[\"MEAN_SPEED\"],ascending=False).head(3)"
   ]
  },
  {
   "cell_type": "code",
   "execution_count": null,
   "id": "28868ab5",
   "metadata": {},
   "outputs": [],
   "source": []
  },
  {
   "cell_type": "code",
   "execution_count": null,
   "id": "5dea4111",
   "metadata": {},
   "outputs": [],
   "source": []
  }
 ],
 "metadata": {
  "kernelspec": {
   "display_name": "Python 3 (ipykernel)",
   "language": "python",
   "name": "python3"
  },
  "language_info": {
   "codemirror_mode": {
    "name": "ipython",
    "version": 3
   },
   "file_extension": ".py",
   "mimetype": "text/x-python",
   "name": "python",
   "nbconvert_exporter": "python",
   "pygments_lexer": "ipython3",
   "version": "3.11.0"
  }
 },
 "nbformat": 4,
 "nbformat_minor": 5
}
